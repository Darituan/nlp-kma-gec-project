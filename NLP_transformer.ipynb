{
 "cells": [
  {
   "cell_type": "markdown",
   "id": "6374b050",
   "metadata": {},
   "source": [
    "NLP project"
   ]
  },
  {
   "cell_type": "code",
   "execution_count": 1,
   "id": "56d3a2f3",
   "metadata": {
    "ExecuteTime": {
     "end_time": "2023-11-26T23:00:11.464947Z",
     "start_time": "2023-11-26T23:00:11.458945400Z"
    }
   },
   "outputs": [],
   "source": [
    "import sys  \n",
    "sys.path.insert(1, './transformer')"
   ]
  },
  {
   "cell_type": "code",
   "execution_count": 2,
   "id": "12cc69f8",
   "metadata": {
    "ExecuteTime": {
     "end_time": "2023-11-26T23:00:14.539849500Z",
     "start_time": "2023-11-26T23:00:14.522848400Z"
    }
   },
   "outputs": [],
   "source": [
    "from dataset import *\n",
    "from Transformer import *\n",
    "from utils import *"
   ]
  },
  {
   "cell_type": "code",
   "execution_count": 3,
   "id": "170a747a",
   "metadata": {
    "ExecuteTime": {
     "end_time": "2023-11-26T23:00:34.142481Z",
     "start_time": "2023-11-26T23:00:17.861822300Z"
    },
    "scrolled": true
   },
   "outputs": [],
   "source": [
    "input_path = './data/gec-only/train.src.tok'\n",
    "target_path = './data/gec-only/train.tgt.tok'\n",
    "\n",
    "dataset = construct_dataset(input_path, target_path, 856+855, 16)"
   ]
  },
  {
   "cell_type": "code",
   "execution_count": 4,
   "id": "9968247b",
   "metadata": {
    "ExecuteTime": {
     "end_time": "2023-11-26T23:00:45.563921300Z",
     "start_time": "2023-11-26T23:00:45.542925300Z"
    }
   },
   "outputs": [
    {
     "data": {
      "text/plain": [
       "2047"
      ]
     },
     "execution_count": 4,
     "metadata": {},
     "output_type": "execute_result"
    }
   ],
   "source": [
    "len(dataset)"
   ]
  },
  {
   "cell_type": "code",
   "execution_count": 5,
   "id": "0f0457ef",
   "metadata": {
    "ExecuteTime": {
     "end_time": "2023-11-26T23:00:51.541739400Z",
     "start_time": "2023-11-26T23:00:51.469224500Z"
    }
   },
   "outputs": [
    {
     "name": "stdout",
     "output_type": "stream",
     "text": [
      "0\n",
      "tf.Tensor(\n",
      "[[    0 10431 47489 ...     1     1     1]\n",
      " [    0 47447    13 ...     1     1     1]\n",
      " [    0 25417 17772 ...     1     1     1]\n",
      " ...\n",
      " [    0 36765 25482 ...     1     1     1]\n",
      " [    0 36709 34251 ...     1     1     1]\n",
      " [    0 25417 10965 ...     1     1     1]], shape=(16, 1711), dtype=int32)\n",
      "tf.Tensor(\n",
      "[[10431 47489 50118 ...     1     1     1]\n",
      " [47447    13  1470 ...     1     1     1]\n",
      " [25417 17772 36709 ...     1     1     1]\n",
      " ...\n",
      " [36765 25482 36709 ...     1     1     1]\n",
      " [36709 34251 22063 ...     1     1     1]\n",
      " [25417 10965 41171 ...     1     1     1]], shape=(16, 1711), dtype=int32)\n"
     ]
    }
   ],
   "source": [
    "for (batch, (input_ids, target_ids)) in enumerate(dataset):\n",
    "    print(batch)\n",
    "    print(input_ids)\n",
    "    print(target_ids)\n",
    "    break"
   ]
  },
  {
   "cell_type": "code",
   "execution_count": 6,
   "id": "daade4d2-219b-412f-b8ae-b2eba6b7dfe7",
   "metadata": {},
   "outputs": [
    {
     "data": {
      "text/plain": [
       "16"
      ]
     },
     "execution_count": 6,
     "metadata": {},
     "output_type": "execute_result"
    }
   ],
   "source": [
    "len(target_ids)"
   ]
  },
  {
   "cell_type": "code",
   "execution_count": 7,
   "id": "0113b6d2",
   "metadata": {
    "ExecuteTime": {
     "end_time": "2023-11-26T23:01:01.005595700Z",
     "start_time": "2023-11-26T23:00:59.072287Z"
    }
   },
   "outputs": [],
   "source": [
    "# Initialize the Transformer model\n",
    "num_layers = 6\n",
    "d_model = 512\n",
    "num_heads = 8\n",
    "dff = 2048\n",
    "pe_input = 1711\n",
    "pe_target = 1711\n",
    "rate = 0.01\n",
    "input_vocab_size = 50265\n",
    "target_vocab_size = 50265\n",
    "transformer_model = Transformer(num_layers, d_model, num_heads, dff, input_vocab_size,\n",
    "                                target_vocab_size, pe_input, pe_target, rate)\n"
   ]
  },
  {
   "cell_type": "code",
   "execution_count": 8,
   "id": "4c7b950e",
   "metadata": {
    "ExecuteTime": {
     "end_time": "2023-11-26T23:01:13.530810700Z",
     "start_time": "2023-11-26T23:01:13.521811400Z"
    }
   },
   "outputs": [],
   "source": [
    "optimizer = tf.keras.optimizers.Adam(learning_rate=0.001)\n",
    "loss_object = tf.keras.losses.SparseCategoricalCrossentropy(from_logits=True, reduction='none')\n",
    "\n",
    "def loss_function(real, pred):\n",
    "    mask = tf.math.logical_not(tf.math.equal(real, 0))\n",
    "    loss_ = loss_object(real, pred)\n",
    "\n",
    "    mask = tf.cast(mask, dtype=loss_.dtype)\n",
    "    loss_ *= mask\n",
    "\n",
    "    return tf.reduce_sum(loss_)/tf.reduce_sum(mask)\n"
   ]
  },
  {
   "cell_type": "code",
   "execution_count": 9,
   "id": "8c09a1b4",
   "metadata": {
    "ExecuteTime": {
     "end_time": "2023-11-26T23:01:21.272340400Z",
     "start_time": "2023-11-26T23:01:21.255335300Z"
    }
   },
   "outputs": [],
   "source": [
    "# Define loss function, optimizer, and other necessary components (as shown in the previous response)\n",
    "\n",
    "# Training step function\n",
    "@tf.function\n",
    "def train_step(input_ids, target_ids):\n",
    "    tar_inp = target_ids[:, :-1]\n",
    "    tar_real = target_ids[:, 1:]\n",
    "\n",
    "    # Create masks\n",
    "    enc_padding_mask, combined_mask, dec_padding_mask = create_masks(input_ids, tar_inp)\n",
    "\n",
    "    with tf.GradientTape() as tape:\n",
    "        predictions, _ = transformer_model(input_ids, tar_inp, True, enc_padding_mask, combined_mask, dec_padding_mask)\n",
    "        loss = loss_function(tar_real, predictions)\n",
    "\n",
    "    gradients = tape.gradient(loss, transformer_model.trainable_variables)\n",
    "    optimizer.apply_gradients(zip(gradients, transformer_model.trainable_variables))\n",
    "\n",
    "    return loss"
   ]
  },
  {
   "cell_type": "code",
   "execution_count": null,
   "id": "dd2b28d5",
   "metadata": {
    "ExecuteTime": {
     "end_time": "2023-11-26T23:01:27.480228400Z",
     "start_time": "2023-11-26T23:01:26.847101600Z"
    }
   },
   "outputs": [],
   "source": [
    "# Training loop\n",
    "EPOCHS = 10\n",
    "\n",
    "for epoch in range(EPOCHS):\n",
    "    total_loss = 0\n",
    "\n",
    "    for (batch, (input_ids, target_ids)) in enumerate(dataset):  # Assuming dataset is prepared\n",
    "        batch_loss = train_step(input_ids, target_ids)\n",
    "        total_loss += batch_loss\n",
    "\n",
    "        if batch % 100 == 0:\n",
    "            print(f'Epoch {epoch + 1} Batch {batch} Loss {batch_loss.numpy():.4f}')\n",
    "\n",
    "    print(f'Epoch {epoch + 1} Loss {total_loss / (batch + 1):.4f}')"
   ]
  },
  {
   "cell_type": "code",
   "execution_count": null,
   "id": "f2e950a3",
   "metadata": {},
   "outputs": [],
   "source": []
  }
 ],
 "metadata": {
  "kernelspec": {
   "display_name": "Python 3 (ipykernel)",
   "language": "python",
   "name": "python3"
  },
  "language_info": {
   "codemirror_mode": {
    "name": "ipython",
    "version": 3
   },
   "file_extension": ".py",
   "mimetype": "text/x-python",
   "name": "python",
   "nbconvert_exporter": "python",
   "pygments_lexer": "ipython3",
   "version": "3.8.0"
  }
 },
 "nbformat": 4,
 "nbformat_minor": 5
}
