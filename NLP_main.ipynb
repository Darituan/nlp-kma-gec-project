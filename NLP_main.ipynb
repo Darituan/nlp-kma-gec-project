{
 "cells": [
  {
   "cell_type": "markdown",
   "id": "689feec5",
   "metadata": {},
   "source": [
    "NLP project"
   ]
  },
  {
   "cell_type": "code",
   "execution_count": 1,
   "id": "a0d82501",
   "metadata": {},
   "outputs": [],
   "source": [
    "import sys  \n",
    "sys.path.insert(1, './transformer')"
   ]
  },
  {
   "cell_type": "code",
   "execution_count": 2,
   "id": "6178964c",
   "metadata": {},
   "outputs": [],
   "source": [
    "from dataset import *\n",
    "from utils import *"
   ]
  },
  {
   "cell_type": "code",
   "execution_count": 3,
   "id": "21f01cc9",
   "metadata": {
    "scrolled": true
   },
   "outputs": [],
   "source": [
    "input_path = './data/gec-only/train.src.tok'\n",
    "target_path = './data/gec-only/train.tgt.tok'\n",
    "\n",
    "dataset = construct_dataset(input_path, target_path, 856*2, 16)"
   ]
  },
  {
   "cell_type": "code",
   "execution_count": 4,
   "id": "7dde4e70",
   "metadata": {},
   "outputs": [
    {
     "data": {
      "text/plain": [
       "2047"
      ]
     },
     "execution_count": 4,
     "metadata": {},
     "output_type": "execute_result"
    }
   ],
   "source": [
    "len(dataset)"
   ]
  },
  {
   "cell_type": "code",
   "execution_count": 5,
   "id": "88298381",
   "metadata": {},
   "outputs": [
    {
     "name": "stdout",
     "output_type": "stream",
     "text": [
      "0\n",
      "tf.Tensor(\n",
      "[[    0 10431 47489 ...     1     1     1]\n",
      " [    0 47447    13 ...     1     1     1]\n",
      " [    0 25417 17772 ...     1     1     1]\n",
      " ...\n",
      " [    0 36765 25482 ...     1     1     1]\n",
      " [    0 36709 34251 ...     1     1     1]\n",
      " [    0 25417 10965 ...     1     1     1]], shape=(16, 1711), dtype=int32)\n",
      "tf.Tensor(\n",
      "[[10431 47489 50118 ...     1     1     1]\n",
      " [47447    13  1470 ...     1     1     1]\n",
      " [25417 17772 36709 ...     1     1     1]\n",
      " ...\n",
      " [36765 25482 36709 ...     1     1     1]\n",
      " [36709 34251 22063 ...     1     1     1]\n",
      " [25417 10965 41171 ...     1     1     1]], shape=(16, 1711), dtype=int32)\n"
     ]
    }
   ],
   "source": [
    "for (batch, (input_ids, target_ids)) in enumerate(dataset):\n",
    "    print(batch)\n",
    "    print(input_ids)\n",
    "    print(target_ids)\n",
    "    break"
   ]
  },
  {
   "cell_type": "code",
   "execution_count": 6,
   "id": "d0a4c123",
   "metadata": {},
   "outputs": [
    {
     "ename": "NameError",
     "evalue": "name 'Transformer' is not defined",
     "output_type": "error",
     "traceback": [
      "\u001b[1;31m---------------------------------------------------------------------------\u001b[0m",
      "\u001b[1;31mNameError\u001b[0m                                 Traceback (most recent call last)",
      "Cell \u001b[1;32mIn[6], line 10\u001b[0m\n\u001b[0;32m      8\u001b[0m rate \u001b[38;5;241m=\u001b[39m \u001b[38;5;241m0.01\u001b[39m\n\u001b[0;32m      9\u001b[0m target_vocab_size \u001b[38;5;241m=\u001b[39m \u001b[38;5;28mlen\u001b[39m(target_ids)\n\u001b[1;32m---> 10\u001b[0m transformer_model \u001b[38;5;241m=\u001b[39m \u001b[43mTransformer\u001b[49m(num_layers, d_model, num_heads, dff,\n\u001b[0;32m     11\u001b[0m                                 target_vocab_size, pe_target, rate)\n",
      "\u001b[1;31mNameError\u001b[0m: name 'Transformer' is not defined"
     ]
    }
   ],
   "source": [
    "# Initialize the Transformer model\n",
    "num_layers = 6\n",
    "d_model = 512\n",
    "num_heads = 8\n",
    "dff = 2048\n",
    "target_vocab_size = len(dataset)\n",
    "pe_target = 1711\n",
    "rate = 0.01\n",
    "target_vocab_size = len(target_ids)\n",
    "transformer_model = Transformer(num_layers, d_model, num_heads, dff,\n",
    "                                target_vocab_size, pe_target, rate)\n"
   ]
  },
  {
   "cell_type": "code",
   "execution_count": null,
   "id": "df3fae97",
   "metadata": {},
   "outputs": [],
   "source": [
    "optimizer = tf.keras.optimizers.Adam(learning_rate=0.001)\n",
    "loss_object = tf.keras.losses.SparseCategoricalCrossentropy(from_logits=True, reduction='none')\n",
    "\n",
    "def loss_function(real, pred):\n",
    "    mask = tf.math.logical_not(tf.math.equal(real, 0))\n",
    "    loss_ = loss_object(real, pred)\n",
    "\n",
    "    mask = tf.cast(mask, dtype=loss_.dtype)\n",
    "    loss_ *= mask\n",
    "\n",
    "    return tf.reduce_sum(loss_)/tf.reduce_sum(mask)\n"
   ]
  },
  {
   "cell_type": "code",
   "execution_count": null,
   "id": "766be096",
   "metadata": {},
   "outputs": [],
   "source": [
    "# Define loss function, optimizer, and other necessary components (as shown in the previous response)\n",
    "\n",
    "# Training step function\n",
    "@tf.function\n",
    "def train_step(input_ids, target_ids):\n",
    "    tar_inp = target_ids[:, :-1]\n",
    "    tar_real = target_ids[:, 1:]\n",
    "\n",
    "    # Create masks\n",
    "    enc_padding_mask, combined_mask, dec_padding_mask = create_masks(input_ids, tar_inp)\n",
    "\n",
    "    with tf.GradientTape() as tape:\n",
    "        predictions, _ = transformer_model(input_ids, tar_inp, True, enc_padding_mask, combined_mask, dec_padding_mask)\n",
    "        loss = loss_function(tar_real, predictions)\n",
    "\n",
    "    gradients = tape.gradient(loss, transformer_model.trainable_variables)\n",
    "    optimizer.apply_gradients(zip(gradients, transformer_model.trainable_variables))\n",
    "\n",
    "    return loss"
   ]
  },
  {
   "cell_type": "code",
   "execution_count": null,
   "id": "ece82d19",
   "metadata": {},
   "outputs": [],
   "source": [
    "# Training loop\n",
    "EPOCHS = 10\n",
    "\n",
    "for epoch in range(EPOCHS):\n",
    "    total_loss = 0\n",
    "\n",
    "    for (batch, (input_ids, target_ids)) in enumerate(dataset):  # Assuming dataset is prepared\n",
    "        batch_loss = train_step(input_ids, target_ids)\n",
    "        total_loss += batch_loss\n",
    "\n",
    "        if batch % 100 == 0:\n",
    "            print(f'Epoch {epoch + 1} Batch {batch} Loss {batch_loss.numpy():.4f}')\n",
    "\n",
    "    print(f'Epoch {epoch + 1} Loss {total_loss / (batch + 1):.4f}')"
   ]
  },
  {
   "cell_type": "code",
   "execution_count": null,
   "id": "24a0694d",
   "metadata": {},
   "outputs": [],
   "source": []
  }
 ],
 "metadata": {
  "kernelspec": {
   "display_name": "Python 3 (ipykernel)",
   "language": "python",
   "name": "python3"
  },
  "language_info": {
   "codemirror_mode": {
    "name": "ipython",
    "version": 3
   },
   "file_extension": ".py",
   "mimetype": "text/x-python",
   "name": "python",
   "nbconvert_exporter": "python",
   "pygments_lexer": "ipython3",
   "version": "3.11.3"
  }
 },
 "nbformat": 4,
 "nbformat_minor": 5
}
